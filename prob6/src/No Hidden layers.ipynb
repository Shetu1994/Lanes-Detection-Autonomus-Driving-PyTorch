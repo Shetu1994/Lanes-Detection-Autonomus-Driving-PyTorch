{
 "cells": [
  {
   "cell_type": "code",
   "execution_count": 1,
   "metadata": {},
   "outputs": [],
   "source": [
    "import mnist_loader\n",
    "training_data , validation_data , test_data = mnist_loader.load_data_wrapper()\n",
    "\n"
   ]
  },
  {
   "cell_type": "markdown",
   "metadata": {},
   "source": [
    "## Implementation of the problem with Hidden layer:\n"
   ]
  },
  {
   "cell_type": "code",
   "execution_count": 2,
   "metadata": {},
   "outputs": [
    {
     "name": "stdout",
     "output_type": "stream",
     "text": [
      "Epoch 0: 9048 / 10000\n",
      "Epoch 1: 9216 / 10000\n",
      "Epoch 2: 9261 / 10000\n",
      "Epoch 3: 9310 / 10000\n",
      "Epoch 4: 9378 / 10000\n",
      "Epoch 5: 9373 / 10000\n",
      "Epoch 6: 9401 / 10000\n",
      "Epoch 7: 9435 / 10000\n",
      "Epoch 8: 9431 / 10000\n",
      "Epoch 9: 9451 / 10000\n",
      "Epoch 10: 9448 / 10000\n",
      "Epoch 11: 9478 / 10000\n",
      "Epoch 12: 9473 / 10000\n",
      "Epoch 13: 9474 / 10000\n",
      "Epoch 14: 9478 / 10000\n",
      "Epoch 15: 9457 / 10000\n",
      "Epoch 16: 9501 / 10000\n",
      "Epoch 17: 9480 / 10000\n",
      "Epoch 18: 9471 / 10000\n",
      "Epoch 19: 9494 / 10000\n",
      "Epoch 20: 9500 / 10000\n",
      "Epoch 21: 9497 / 10000\n",
      "Epoch 22: 9505 / 10000\n",
      "Epoch 23: 9499 / 10000\n",
      "Epoch 24: 9489 / 10000\n",
      "Epoch 25: 9498 / 10000\n",
      "Epoch 26: 9505 / 10000\n",
      "Epoch 27: 9493 / 10000\n",
      "Epoch 28: 9509 / 10000\n",
      "Epoch 29: 9513 / 10000\n"
     ]
    }
   ],
   "source": [
    "import network\n",
    "\n",
    "net1 = network.Network ([784 , 30, 10])\n",
    "c= net1.SGD( training_data , 30, 10, 3.0, test_data = test_data )"
   ]
  },
  {
   "cell_type": "markdown",
   "metadata": {},
   "source": [
    "## Implementaion of the problem without Hidden layer"
   ]
  },
  {
   "cell_type": "code",
   "execution_count": null,
   "metadata": {},
   "outputs": [],
   "source": [
    "net = network.Network ([784 , 10])\n",
    "net.SGD( training_data , 30, 10, 3.0, test_data = test_data )"
   ]
  }
 ],
 "metadata": {
  "kernelspec": {
   "display_name": "Python 2",
   "language": "python",
   "name": "python2"
  },
  "language_info": {
   "codemirror_mode": {
    "name": "ipython",
    "version": 2
   },
   "file_extension": ".py",
   "mimetype": "text/x-python",
   "name": "python",
   "nbconvert_exporter": "python",
   "pygments_lexer": "ipython2",
   "version": "2.7.15"
  },
  "varInspector": {
   "cols": {
    "lenName": 16,
    "lenType": 16,
    "lenVar": 40
   },
   "kernels_config": {
    "python": {
     "delete_cmd_postfix": "",
     "delete_cmd_prefix": "del ",
     "library": "var_list.py",
     "varRefreshCmd": "print(var_dic_list())"
    },
    "r": {
     "delete_cmd_postfix": ") ",
     "delete_cmd_prefix": "rm(",
     "library": "var_list.r",
     "varRefreshCmd": "cat(var_dic_list()) "
    }
   },
   "types_to_exclude": [
    "module",
    "function",
    "builtin_function_or_method",
    "instance",
    "_Feature"
   ],
   "window_display": false
  }
 },
 "nbformat": 4,
 "nbformat_minor": 2
}
