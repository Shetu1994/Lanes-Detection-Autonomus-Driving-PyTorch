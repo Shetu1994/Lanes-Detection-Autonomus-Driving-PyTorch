{
 "cells": [
  {
   "cell_type": "code",
   "execution_count": 1,
   "metadata": {},
   "outputs": [
    {
     "ename": "ImportError",
     "evalue": "No module named specs",
     "output_type": "error",
     "traceback": [
      "\u001b[0;31m---------------------------------------------------------------------------\u001b[0m",
      "\u001b[0;31mImportError\u001b[0m                               Traceback (most recent call last)",
      "\u001b[0;32m<ipython-input-1-0c1ea90b0c1c>\u001b[0m in \u001b[0;36m<module>\u001b[0;34m()\u001b[0m\n\u001b[1;32m      9\u001b[0m \u001b[0;32mfrom\u001b[0m \u001b[0mtorch\u001b[0m\u001b[0;34m.\u001b[0m\u001b[0mnn\u001b[0m \u001b[0;32mimport\u001b[0m \u001b[0;34m*\u001b[0m\u001b[0;34m\u001b[0m\u001b[0m\n\u001b[1;32m     10\u001b[0m \u001b[0;31m# User Defined Modules\u001b[0m\u001b[0;34m\u001b[0m\u001b[0;34m\u001b[0m\u001b[0m\n\u001b[0;32m---> 11\u001b[0;31m \u001b[0;32mimport\u001b[0m \u001b[0mspecs\u001b[0m\u001b[0;34m\u001b[0m\u001b[0m\n\u001b[0m\u001b[1;32m     12\u001b[0m \u001b[0;32mfrom\u001b[0m \u001b[0mdata\u001b[0m\u001b[0;34m.\u001b[0m\u001b[0mImg_dataset\u001b[0m \u001b[0;32mimport\u001b[0m \u001b[0;34m*\u001b[0m\u001b[0;34m\u001b[0m\u001b[0m\n\u001b[1;32m     13\u001b[0m \u001b[0;32mfrom\u001b[0m \u001b[0mmodels\u001b[0m \u001b[0;32mimport\u001b[0m \u001b[0mUNet\u001b[0m\u001b[0;34m\u001b[0m\u001b[0m\n",
      "\u001b[0;31mImportError\u001b[0m: No module named specs"
     ]
    }
   ],
   "source": [
    "#System Modules\n",
    "import os.path\n",
    "\n",
    "# Deep Learning Modules\n",
    "from tensorboardX import SummaryWriter\n",
    "from torch.autograd import Variable\n",
    "from torch.utils.data import Dataset, ConcatDataset\n",
    "from torchvision.utils import make_grid\n",
    "from torch.nn import *\n",
    "# User Defined Modules\n",
    "import specs\n",
    "from data.Img_dataset import *\n",
    "from models import UNet\n",
    "\n",
    "from serde import *\n",
    "from utils.augmentation import *\n",
    "from Training import Training\n",
    "import warnings\n",
    "warnings.filterwarnings('ignore')"
   ]
  },
  {
   "cell_type": "code",
   "execution_count": null,
   "metadata": {},
   "outputs": [],
   "source": [
    "%load_ext autoreload"
   ]
  },
  {
   "cell_type": "code",
   "execution_count": null,
   "metadata": {},
   "outputs": [],
   "source": [
    "%autoreload 2"
   ]
  },
  {
   "cell_type": "code",
   "execution_count": null,
   "metadata": {},
   "outputs": [],
   "source": [
    "cfg_path = './config.json'\n",
    "#Uncomment below line if you want to delete an experiment and reuse the same experiment name\n",
    "#delete_experiment('UNet_SGD')\n",
    "params = create_experiment('UNet_SGD')\n",
    "cfg_path=params[\"cfg_path\"]"
   ]
  },
  {
   "cell_type": "code",
   "execution_count": null,
   "metadata": {},
   "outputs": [],
   "source": [
    "# Train Set\n",
    "\n",
    "augmentation_operation = Compose([LeftRightFlip(cfg_path), Rotate(cfg_path),\n",
    "                                  ColRec(cfg_path),GaussianNoise(cfg_path),\n",
    "                                  ZoomIn(cfg_path),Invert(cfg_path)\n",
    "                                 ], cfg_path)\n",
    "train_dataset = ConcatDataset([\n",
    "        Img_dataset(dataset_name='TrainSet1000',size=1000,cfg_path=cfg_path,augmentation=augmentation_operation),\n",
    "        Img_dataset(dataset_name='True_Negative_Dataset_Train',size=300,  cfg_path=cfg_path),\n",
    "\n",
    "    ])\n",
    "\n",
    "\n",
    "train_loader = torch.utils.data.DataLoader(dataset=train_dataset,\n",
    "                                               batch_size=1,\n",
    "                                               shuffle=True, num_workers=4)\n",
    "\n",
    "# Test Set\n",
    "test_dataset =  Img_dataset(dataset_name='TestSet20',size=20,cfg_path=cfg_path,mode=Mode.TEST, seed=5)\n",
    "test_loader = torch.utils.data.DataLoader(dataset=test_dataset,\n",
    "                                              batch_size=1,\n",
    "                                              shuffle=False, num_workers=4)\n",
    "\n"
   ]
  },
  {
   "cell_type": "code",
   "execution_count": null,
   "metadata": {},
   "outputs": [],
   "source": [
    "#Initialize trainer\n",
    "#cfg_path=params['cfg_path']\n",
    "trainer=Training(cfg_path)"
   ]
  },
  {
   "cell_type": "code",
   "execution_count": null,
   "metadata": {},
   "outputs": [],
   "source": [
    "#Defime model parameters\n",
    "optimiser_params={'lr':0.01}\n",
    "lane_to_nolane_weight_ratio=4\n",
    "trainer.setup_model(model=UNet,\n",
    "                    optimiser=torch.optim.SGD,optimiser_params=optimiser_params,\n",
    "                    loss_function=CrossEntropyLoss,weight_ratio=lane_to_nolane_weight_ratio)"
   ]
  },
  {
   "cell_type": "code",
   "execution_count": null,
   "metadata": {},
   "outputs": [],
   "source": [
    "#Execute Training\n",
    "trainer.execute_training(train_loader,test_loader,num_epochs=25)"
   ]
  },
  {
   "cell_type": "code",
   "execution_count": null,
   "metadata": {},
   "outputs": [],
   "source": []
  }
 ],
 "metadata": {
  "kernelspec": {
   "display_name": "Python 2",
   "language": "python",
   "name": "python2"
  },
  "language_info": {
   "codemirror_mode": {
    "name": "ipython",
    "version": 2
   },
   "file_extension": ".py",
   "mimetype": "text/x-python",
   "name": "python",
   "nbconvert_exporter": "python",
   "pygments_lexer": "ipython2",
   "version": "2.7.15"
  },
  "varInspector": {
   "cols": {
    "lenName": 16,
    "lenType": 16,
    "lenVar": 40
   },
   "kernels_config": {
    "python": {
     "delete_cmd_postfix": "",
     "delete_cmd_prefix": "del ",
     "library": "var_list.py",
     "varRefreshCmd": "print(var_dic_list())"
    },
    "r": {
     "delete_cmd_postfix": ") ",
     "delete_cmd_prefix": "rm(",
     "library": "var_list.r",
     "varRefreshCmd": "cat(var_dic_list()) "
    }
   },
   "types_to_exclude": [
    "module",
    "function",
    "builtin_function_or_method",
    "instance",
    "_Feature"
   ],
   "window_display": false
  }
 },
 "nbformat": 4,
 "nbformat_minor": 2
}
