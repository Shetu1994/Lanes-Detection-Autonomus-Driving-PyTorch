{
 "cells": [
  {
   "cell_type": "code",
   "execution_count": null,
   "metadata": {},
   "outputs": [],
   "source": [
    "#System Modules\n",
    "import os.path\n",
    "\n",
    "# Deep Learning Modules\n",
    "from tensorboardX import SummaryWriter\n",
    "from torch.autograd import Variable\n",
    "from torch.utils.data import Dataset, ConcatDataset\n",
    "from torchvision.utils import make_grid\n",
    "from torch.nn import *\n",
    "# User Defined Modules\n",
    "import specs\n",
    "from data.Img_dataset import *\n",
    "from models import UNet\n",
    "\n",
    "from serde import *\n",
    "from utils.augmentation import *\n",
    "from Training import Training\n",
    "import warnings\n",
    "warnings.filterwarnings('ignore')"
   ]
  },
  {
   "cell_type": "code",
   "execution_count": null,
   "metadata": {},
   "outputs": [],
   "source": [
    "%load_ext autoreload"
   ]
  },
  {
   "cell_type": "code",
   "execution_count": null,
   "metadata": {},
   "outputs": [],
   "source": [
    "%autoreload 2"
   ]
  },
  {
   "cell_type": "code",
   "execution_count": null,
   "metadata": {},
   "outputs": [],
   "source": [
    "cfg_path = './config.json'\n",
    "#Uncomment below line if you want to delete an experiment and reuse the same experiment name\n",
    "#delete_experiment('UNet_SGD')\n",
    "params = create_experiment('UNet_SGD')\n",
    "cfg_path=params[\"cfg_path\"]"
   ]
  },
  {
   "cell_type": "code",
   "execution_count": null,
   "metadata": {},
   "outputs": [],
   "source": [
    "# Train Set\n",
    "\n",
    "augmentation_operation = Compose([LeftRightFlip(cfg_path), Rotate(cfg_path),\n",
    "                                  ColRec(cfg_path),GaussianNoise(cfg_path),\n",
    "                                  ZoomIn(cfg_path),Invert(cfg_path)\n",
    "                                 ], cfg_path)\n",
    "train_dataset = ConcatDataset([\n",
    "        Img_dataset(dataset_name='TrainSet1000',size=1000,cfg_path=cfg_path,augmentation=augmentation_operation),\n",
    "        Img_dataset(dataset_name='True_Negative_Dataset_Train',size=300,  cfg_path=cfg_path),\n",
    "\n",
    "    ])\n",
    "\n",
    "\n",
    "train_loader = torch.utils.data.DataLoader(dataset=train_dataset,\n",
    "                                               batch_size=1,\n",
    "                                               shuffle=True, num_workers=4)\n",
    "\n",
    "# Test Set\n",
    "test_dataset =  Img_dataset(dataset_name='TestSet20',size=20,cfg_path=cfg_path,mode=Mode.TEST, seed=5)\n",
    "test_loader = torch.utils.data.DataLoader(dataset=test_dataset,\n",
    "                                              batch_size=1,\n",
    "                                              shuffle=False, num_workers=4)\n",
    "\n"
   ]
  },
  {
   "cell_type": "code",
   "execution_count": null,
   "metadata": {},
   "outputs": [],
   "source": [
    "#Initialize trainer\n",
    "#cfg_path=params['cfg_path']\n",
    "trainer=Training(cfg_path)"
   ]
  },
  {
   "cell_type": "code",
   "execution_count": null,
   "metadata": {},
   "outputs": [],
   "source": [
    "#Defime model parameters\n",
    "optimiser_params={'lr':0.01}\n",
    "lane_to_nolane_weight_ratio=4\n",
    "trainer.setup_model(model=UNet,\n",
    "                    optimiser=torch.optim.SGD,optimiser_params=optimiser_params,\n",
    "                    loss_function=CrossEntropyLoss,weight_ratio=lane_to_nolane_weight_ratio)"
   ]
  },
  {
   "cell_type": "code",
   "execution_count": null,
   "metadata": {},
   "outputs": [],
   "source": [
    "#Execute Training\n",
    "trainer.execute_training(train_loader,test_loader,num_epochs=25)"
   ]
  },
  {
   "cell_type": "code",
   "execution_count": null,
   "metadata": {},
   "outputs": [],
   "source": []
  }
 ],
 "metadata": {
  "kernelspec": {
   "display_name": "Python 2",
   "language": "python",
   "name": "python2"
  },
  "language_info": {
   "codemirror_mode": {
    "name": "ipython",
    "version": 2
   },
   "file_extension": ".py",
   "mimetype": "text/x-python",
   "name": "python",
   "nbconvert_exporter": "python",
   "pygments_lexer": "ipython2",
   "version": "2.7.15"
  }
 },
 "nbformat": 4,
 "nbformat_minor": 2
}
