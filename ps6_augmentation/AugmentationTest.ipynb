{
 "cells": [
  {
   "cell_type": "code",
   "execution_count": null,
   "metadata": {},
   "outputs": [],
   "source": [
    "%load_ext autoreload"
   ]
  },
  {
   "cell_type": "code",
   "execution_count": null,
   "metadata": {},
   "outputs": [],
   "source": [
    "%autoreload 2"
   ]
  },
  {
   "cell_type": "code",
   "execution_count": null,
   "metadata": {},
   "outputs": [],
   "source": [
    "# System Modules\n",
    "import matplotlib.pyplot as plt\n",
    "# Deep Learning Modules\n",
    "from torch.utils.data import Dataset\n",
    "\n",
    "# User Defined Modules\n",
    "import specs\n",
    "\n",
    "from data.Img_dataset import *\n",
    "from models import UNet\n",
    "\n",
    "from utils.augmentation import *\n",
    "from serde import read_config,open_experiment,create_experiment\n",
    "import warnings\n",
    "warnings.filterwarnings('ignore')"
   ]
  },
  {
   "cell_type": "code",
   "execution_count": null,
   "metadata": {},
   "outputs": [],
   "source": [
    "device = torch.device('cuda' if torch.cuda.is_available() else 'cpu')\n",
    "cfg_path='./config.json'\n",
    "params=read_config(cfg_path)"
   ]
  },
  {
   "cell_type": "code",
   "execution_count": null,
   "metadata": {},
   "outputs": [],
   "source": [
    "#Create Experiment\n",
    "params=create_experiment('dataset_test1')"
   ]
  },
  {
   "cell_type": "code",
   "execution_count": null,
   "metadata": {},
   "outputs": [],
   "source": [
    "#Uncomment below if above cell gives error:Experiment already exist\n",
    "params=open_experiment('dataset_test1')  \n",
    "\n",
    "cfg_path=params['cfg_path']\n",
    "\n",
    "#Uncomment below to test augmentation\n",
    "#augmentation_operation=Compose([LeftRightFlip(cfg_path)],cfg_path)\n",
    "dataset =Img_dataset(dataset_name='SimSet1',size=5,cfg_path=cfg_path\n",
    "                             #,augmentation=augmentation_operation\n",
    "                            )\n",
    "loader = torch.utils.data.DataLoader(dataset=dataset,\n",
    "                                                 batch_size=1,\n",
    "                                                 shuffle=False, num_workers=1)"
   ]
  },
  {
   "cell_type": "code",
   "execution_count": null,
   "metadata": {},
   "outputs": [],
   "source": [
    "for i in range(3):\n",
    "    for i, (image, label) in enumerate(loader):\n",
    "            image = image.to(device)\n",
    "            label = label.to(device)\n",
    "            image = image.byte().cpu().numpy()\n",
    "            label = label.cpu().numpy()\n",
    "            image = image[0]\n",
    "            label = label[0]\n",
    "\n",
    "\n",
    "            if(True):\n",
    "                fig, (ax1, ax2) = plt.subplots(1, 2, figsize=(7, 7))\n",
    "                ax1.imshow(image.transpose(1, 2, 0))\n",
    "                ax2.imshow(label)\n",
    "                plt.show()\n"
   ]
  },
  {
   "cell_type": "code",
   "execution_count": null,
   "metadata": {},
   "outputs": [],
   "source": [
    "#Augmentation test\n",
    "params=open_experiment('dataset_test1')  \n",
    "\n",
    "cfg_path=params['cfg_path']\n",
    "\n",
    "#Test out the various augmentation functions created by editing the Compose function below\n",
    "augmentation_operation=Compose([LeftRightFlip(cfg_path)],cfg_path)\n",
    "\n",
    "\n",
    "\n",
    "dataset =Img_dataset(dataset_name='SimSet1',size=1,cfg_path=cfg_path\n",
    "                             ,augmentation=augmentation_operation\n",
    "                            )\n",
    "loader = torch.utils.data.DataLoader(dataset=dataset,\n",
    "                                                 batch_size=1,\n",
    "                                                 shuffle=False, num_workers=1)"
   ]
  },
  {
   "cell_type": "code",
   "execution_count": null,
   "metadata": {},
   "outputs": [],
   "source": [
    "for i in range(3):\n",
    "    for i, (image, label) in enumerate(loader):\n",
    "            image = image.to(device)\n",
    "            label = label.to(device)\n",
    "            image = image.byte().cpu().numpy()\n",
    "            label = label.cpu().numpy()\n",
    "            image = image[0]\n",
    "            label = label[0]\n",
    "\n",
    "\n",
    "            if(True):\n",
    "                fig, (ax1, ax2) = plt.subplots(1, 2, figsize=(7, 7))\n",
    "                ax1.imshow(image.transpose(1, 2, 0))\n",
    "                ax2.imshow(label)\n",
    "                plt.show()\n"
   ]
  },
  {
   "cell_type": "code",
   "execution_count": null,
   "metadata": {},
   "outputs": [],
   "source": []
  }
 ],
 "metadata": {
  "kernelspec": {
   "display_name": "Python 2",
   "language": "python",
   "name": "python2"
  },
  "language_info": {
   "codemirror_mode": {
    "name": "ipython",
    "version": 2
   },
   "file_extension": ".py",
   "mimetype": "text/x-python",
   "name": "python",
   "nbconvert_exporter": "python",
   "pygments_lexer": "ipython2",
   "version": "2.7.15"
  }
 },
 "nbformat": 4,
 "nbformat_minor": 2
}
